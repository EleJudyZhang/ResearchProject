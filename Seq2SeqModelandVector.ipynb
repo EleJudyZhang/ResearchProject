{
 "cells": [
  {
   "cell_type": "code",
   "execution_count": 1,
   "id": "6e98a9a9",
   "metadata": {},
   "outputs": [],
   "source": [
    "import pandas as pd\n",
    "import datetime\n",
    "import nltk\n",
    "import spacy\n",
    "\n",
    "import re\n",
    "from time import time \n",
    "from collections import defaultdict\n",
    "\n",
    "import logging  # Setting up the loggings to monitor gensim\n",
    "logging.basicConfig(format=\"%(levelname)s - %(asctime)s: %(message)s\", datefmt= '%H:%M:%S', level=logging.INFO)"
   ]
  },
  {
   "cell_type": "code",
   "execution_count": 57,
   "id": "bf40aa99",
   "metadata": {},
   "outputs": [],
   "source": [
    "import numpy as np\n",
    "import pandas as pd\n",
    "import gc\n",
    "import os\n",
    "import json\n",
    "from collections import Counter, defaultdict\n",
    "from tqdm.notebook import tqdm\n",
    "import matplotlib.pyplot as plt\n",
    "%matplotlib inline\n",
    "import plotly.express as px\n",
    "import re\n",
    "import nltk\n",
    "from gensim.models import word2vec\n",
    "from sklearn.manifold import TSNE\n",
    "year_pattern = r'([1-2][0-9]{3})'"
   ]
  },
  {
   "cell_type": "code",
   "execution_count": 245,
   "id": "f5fe5ddc",
   "metadata": {},
   "outputs": [],
   "source": [
    "def get_metadata():\n",
    "    with open('arxivData.json', 'r') as f:\n",
    "        for line in f:\n",
    "            yield line\n",
    "            \n",
    "\n",
    "def clean_sentence(val):\n",
    "    \"remove chars that are not letters or numbers, downcase, then remove stop words\"\n",
    "    regex = re.compile('([^\\s\\w]|_|\\r|\\n)+')\n",
    "    sentence = regex.sub('', val).lower()\n",
    "    sentence = sentence.split(\" \")\n",
    "    \n",
    "    for word in list(sentence):\n",
    "        if word in STOP_WORDS:\n",
    "            sentence.remove(word)  \n",
    "            \n",
    "    sentence = \" \".join(sentence)\n",
    "    return sentence\n",
    "\n",
    "STOP_WORDS = nltk.corpus.stopwords.words()"
   ]
  },
  {
   "cell_type": "code",
   "execution_count": 246,
   "id": "b5a346d1",
   "metadata": {},
   "outputs": [],
   "source": [
    "target_key = 'abstract'\n",
    "\n",
    "abstracts = []\n",
    "\n",
    "for idx, paper in enumerate(get_metadata()):\n",
    "    if idx == 5000:\n",
    "        break\n",
    "    for k, v in json.loads(paper).items():\n",
    "        if k == target_key:\n",
    "            abstracts.append(clean_sentence(v).strip().split())"
   ]
  },
  {
   "cell_type": "code",
   "execution_count": 18,
   "id": "2bf9be6f",
   "metadata": {},
   "outputs": [
    {
     "data": {
      "text/plain": [
       "[['fully',\n",
       "  'differential',\n",
       "  'calculation',\n",
       "  'perturbative',\n",
       "  'quantum',\n",
       "  'chromodynamics',\n",
       "  'ispresented',\n",
       "  'production',\n",
       "  'massive',\n",
       "  'photon',\n",
       "  'pairs',\n",
       "  'hadron',\n",
       "  'colliders',\n",
       "  'allnexttoleading',\n",
       "  'order',\n",
       "  'perturbative',\n",
       "  'contributions',\n",
       "  'quarkantiquarkgluonantiquark',\n",
       "  'gluongluon',\n",
       "  'subprocesses',\n",
       "  'included',\n",
       "  'asallorders',\n",
       "  'resummation',\n",
       "  'initialstate',\n",
       "  'gluon',\n",
       "  'radiation',\n",
       "  'valid',\n",
       "  'atnexttonexttoleading',\n",
       "  'logarithmic',\n",
       "  'accuracy',\n",
       "  'region',\n",
       "  'phase',\n",
       "  'space',\n",
       "  'isspecified',\n",
       "  'calculation',\n",
       "  'reliable',\n",
       "  'agreement',\n",
       "  'isdemonstrated',\n",
       "  'data',\n",
       "  'fermilab',\n",
       "  'tevatron',\n",
       "  'predictions',\n",
       "  'made',\n",
       "  'formore',\n",
       "  'detailed',\n",
       "  'tests',\n",
       "  'cdf',\n",
       "  'data',\n",
       "  'predictions',\n",
       "  'shown',\n",
       "  'fordistributions',\n",
       "  'diphoton',\n",
       "  'pairs',\n",
       "  'produced',\n",
       "  'energy',\n",
       "  'large',\n",
       "  'hadroncollider',\n",
       "  'lhc',\n",
       "  'distributions',\n",
       "  'diphoton',\n",
       "  'pairs',\n",
       "  'decay',\n",
       "  'higgsboson',\n",
       "  'contrasted',\n",
       "  'produced',\n",
       "  'qcd',\n",
       "  'processes',\n",
       "  'lhc',\n",
       "  'showingthat',\n",
       "  'enhanced',\n",
       "  'sensitivity',\n",
       "  'signal',\n",
       "  'obtained',\n",
       "  'judiciousselection',\n",
       "  'events'],\n",
       " ['describe',\n",
       "  'algorithm',\n",
       "  'kellpebble',\n",
       "  'game',\n",
       "  'colors',\n",
       "  'useit',\n",
       "  'obtain',\n",
       "  'characterization',\n",
       "  'family',\n",
       "  'kellsparse',\n",
       "  'graphs',\n",
       "  'andalgorithmic',\n",
       "  'solutions',\n",
       "  'family',\n",
       "  'problems',\n",
       "  'concerning',\n",
       "  'tree',\n",
       "  'decompositions',\n",
       "  'ofgraphs',\n",
       "  'special',\n",
       "  'instances',\n",
       "  'sparse',\n",
       "  'graphs',\n",
       "  'rigidity',\n",
       "  'theory',\n",
       "  'havereceived',\n",
       "  'increased',\n",
       "  'attention',\n",
       "  'recent',\n",
       "  'years',\n",
       "  'particular',\n",
       "  'coloredpebbles',\n",
       "  'generalize',\n",
       "  'strengthen',\n",
       "  'previous',\n",
       "  'results',\n",
       "  'lee',\n",
       "  'streinu',\n",
       "  'andgive',\n",
       "  'proof',\n",
       "  'tuttenashwilliams',\n",
       "  'characterization',\n",
       "  'arboricity',\n",
       "  'wealso',\n",
       "  'present',\n",
       "  'decomposition',\n",
       "  'certifies',\n",
       "  'sparsity',\n",
       "  'based',\n",
       "  'thekellpebble',\n",
       "  'game',\n",
       "  'colors',\n",
       "  'work',\n",
       "  'exposes',\n",
       "  'connections',\n",
       "  'betweenpebble',\n",
       "  'game',\n",
       "  'algorithms',\n",
       "  'previous',\n",
       "  'sparse',\n",
       "  'graph',\n",
       "  'algorithms',\n",
       "  'gabow',\n",
       "  'gabow',\n",
       "  'andwestermann',\n",
       "  'hendrickson']]"
      ]
     },
     "execution_count": 18,
     "metadata": {},
     "output_type": "execute_result"
    }
   ],
   "source": [
    "abstracts[0:2]"
   ]
  },
  {
   "cell_type": "code",
   "execution_count": 9,
   "id": "1d468bad",
   "metadata": {},
   "outputs": [],
   "source": [
    "model = word2vec.Word2Vec(abstracts, vector_size=100, window=20, min_count=200, workers=4)"
   ]
  },
  {
   "cell_type": "code",
   "execution_count": 18,
   "id": "ffabff19",
   "metadata": {},
   "outputs": [],
   "source": [
    "def tsne_plot(model):\n",
    "    \"Creates and TSNE model and plots it\"\n",
    "    labels = []\n",
    "    tokens = []\n",
    "\n",
    "    for word in list(model.wv.index_to_key):\n",
    "        tokens.append(model.wv[word])\n",
    "        labels.append(word)\n",
    "    \n",
    "    tsne_model = TSNE(perplexity=40, n_components=2, init='pca', n_iter=2500, random_state=23)\n",
    "    new_values = tsne_model.fit_transform(tokens)\n",
    "\n",
    "    x = []\n",
    "    y = []\n",
    "    for value in new_values:\n",
    "        x.append(value[0])\n",
    "        y.append(value[1])\n",
    "        \n",
    "    plt.figure(figsize=(16, 16)) \n",
    "    for i in range(len(x)):\n",
    "        plt.scatter(x[i],y[i])\n",
    "        plt.annotate(labels[i],\n",
    "                     xy=(x[i], y[i]),\n",
    "                     xytext=(5, 2),\n",
    "                     textcoords='offset points',\n",
    "                     ha='right',\n",
    "                     va='bottom')\n",
    "    plt.show()"
   ]
  },
  {
   "cell_type": "code",
   "execution_count": 19,
   "id": "34584d96",
   "metadata": {},
   "outputs": [
    {
     "name": "stderr",
     "output_type": "stream",
     "text": [
      "C:\\Users\\cll48\\anaconda3\\envs\\Python_3_8\\lib\\site-packages\\sklearn\\manifold\\_t_sne.py:805: FutureWarning: The default learning rate in TSNE will change from 200.0 to 'auto' in 1.2.\n",
      "  warnings.warn(\n",
      "C:\\Users\\cll48\\anaconda3\\envs\\Python_3_8\\lib\\site-packages\\sklearn\\manifold\\_t_sne.py:991: FutureWarning: The PCA initialization in TSNE will change to have the standard deviation of PC1 equal to 1e-4 in 1.2. This will ensure better convergence.\n",
      "  warnings.warn(\n"
     ]
    },
    {
     "data": {
      "image/png": "[encoded data removed]",
      "text/plain": [
       "<Figure size 1152x1152 with 1 Axes>"
      ]
     },
     "metadata": {
      "needs_background": "light"
     },
     "output_type": "display_data"
    }
   ],
   "source": [
    "tsne_plot(model)"
   ]
  },
  {
   "cell_type": "code",
   "execution_count": 2,
   "id": "365d11c4",
   "metadata": {},
   "outputs": [],
   "source": [
    "from tensorflow.keras.layers import Attention\n",
    "import numpy as np\n",
    "import pandas as pd \n",
    "import re\n",
    "from bs4 import BeautifulSoup\n",
    "from keras.preprocessing.text import Tokenizer \n",
    "from keras_preprocessing.sequence import pad_sequences\n",
    "from nltk.corpus import stopwords\n",
    "from tensorflow.keras.layers import Input, LSTM, Embedding, Dense, Concatenate, TimeDistributed\n",
    "from tensorflow.keras.models import Model\n",
    "from tensorflow.keras.callbacks import EarlyStopping\n",
    "import warnings\n",
    "pd.set_option(\"display.max_colwidth\", 200)\n",
    "warnings.filterwarnings(\"ignore\")"
   ]
  },
  {
   "cell_type": "code",
   "execution_count": 3,
   "id": "a2dda159",
   "metadata": {},
   "outputs": [],
   "source": [
    "data=pd.read_csv(\"scisumm.csv\"\n",
    "                 ,nrows=151) #due to the GPU instead of all rowa used 151 in project"
   ]
  },
  {
   "cell_type": "code",
   "execution_count": 4,
   "id": "bea11d86",
   "metadata": {},
   "outputs": [],
   "source": [
    "data.drop_duplicates(subset=['text'],inplace=True)#dropping duplicates\n",
    "data.dropna(axis=0,inplace=True)#dropping na"
   ]
  },
  {
   "cell_type": "code",
   "execution_count": 5,
   "id": "ed8f6514",
   "metadata": {},
   "outputs": [
    {
     "name": "stdout",
     "output_type": "stream",
     "text": [
      "<class 'pandas.core.frame.DataFrame'>\n",
      "Int64Index: 151 entries, 0 to 150\n",
      "Data columns (total 2 columns):\n",
      " #   Column   Non-Null Count  Dtype \n",
      "---  ------   --------------  ----- \n",
      " 0   text     151 non-null    object\n",
      " 1   summary  151 non-null    object\n",
      "dtypes: object(2)\n",
      "memory usage: 3.5+ KB\n"
     ]
    }
   ],
   "source": [
    "data.info()"
   ]
  },
  {
   "cell_type": "code",
   "execution_count": 6,
   "id": "e9540b10",
   "metadata": {},
   "outputs": [],
   "source": [
    "ownwords = [\"we\",\"We\",\"to\",\"the\",\"for\",\"fi\",\"ff\",\"zk\",\"x\",\"fifi\",\"f\",\"fl\",\"of\",\"for\",\"is\",\"are\",\"for\",\"to\",\"in\",\"and\",\"at\",\"with\"]\n",
    "Prepositions = ['about','above','across','after','against','along','among','around','at','before','behind','between','beyond','but','by','concerning','despite','down','during','except','following','for','from','in','including','into','like','near','of','off','on','onto','out','over','past','plus','since','throughout','to','towards','under','until','up','upon','up','to','with','within','without']"
   ]
  },
  {
   "cell_type": "code",
   "execution_count": 7,
   "id": "b144323b",
   "metadata": {},
   "outputs": [],
   "source": [
    "stop_words = set(stopwords.words('english')) \n",
    "stop_words.update(ownwords)\n",
    "stop_words.update(Prepositions)\n",
    "def text_cleaner(text,num):\n",
    "    newString = text.lower()\n",
    "    newString = re.sub(r'\\([^)]*\\)', '', newString)\n",
    "    newString = re.sub('\"','', newString)\n",
    "    newString = re.sub(r\"'s\\b\",\"\",newString)\n",
    "    newString = re.sub(\"[^a-zA-Z]\", \" \", newString)\n",
    "    #newString = re.sub('[m]{2,}', 'mm', newString)\n",
    "    if(num==0):\n",
    "        tokens = [w for w in newString.split() if not w in stop_words]\n",
    "    else:\n",
    "        tokens=newString.split()\n",
    "    long_words=[]\n",
    "    for i in tokens:\n",
    "        if len(i)>2:                                              \n",
    "            long_words.append(i)   \n",
    "    return (\" \".join(long_words)).strip()"
   ]
  },
  {
   "cell_type": "code",
   "execution_count": 8,
   "id": "49bf4c97",
   "metadata": {},
   "outputs": [
    {
     "name": "stdout",
     "output_type": "stream",
     "text": [
      "{'yourselves', 'his', 'with', 'ours', 'down', 'most', 'where', \"should've\", 'needn', 'fi', 'between', \"weren't\", 'fl', 'for', 'have', 'over', 'same', \"haven't\", 'don', 'beyond', \"mustn't\", \"couldn't\", 'its', 'fifi', 'if', 'won', 'theirs', 've', 'will', 'towards', 'wouldn', 'more', \"shouldn't\", 'be', 'now', 'itself', 'isn', 'onto', 'plus', 'upon', 'does', 'themselves', 'and', 'of', 'do', 'is', 'o', 'past', 'along', 'f', \"wouldn't\", \"you're\", \"you'd\", 'was', 'ma', 'including', \"didn't\", 'among', 'zk', 'despite', \"needn't\", 'mightn', 'then', 'within', 'all', 'she', 'while', \"you'll\", 'm', 'my', 'myself', 'weren', 'being', 'some', 'only', 'himself', 'since', 'how', 'i', 'during', \"mightn't\", 'couldn', 'had', 'concerning', 'above', 'ourselves', 'were', \"you've\", 'nor', \"doesn't\", 'wasn', 'there', 'We', 'below', 'yourself', 'are', 'y', \"hadn't\", 'it', \"wasn't\", 'd', 'near', 'should', 'ff', 'at', 'we', 'or', 'ain', 'because', 'am', 'an', 'been', 'into', 'behind', 'again', 'about', 'the', \"she's\", 'following', 'shouldn', 'you', 'very', 'll', 'as', 'from', \"hasn't\", 'so', 'these', 'that', 'off', 'when', 'few', \"shan't\", 'her', 'than', 'not', 'against', 'herself', 'our', 'too', 'your', \"it's\", 'to', 't', 'hers', 'having', 'like', 'who', 'no', 'after', 'on', 'me', 'but', 'any', 'them', 'under', 'further', 'before', 'in', 'shan', \"aren't\", 'those', 'him', 'yours', 'their', 'by', 'why', 'both', 'which', 'out', 'whom', 'a', 'x', 're', 'this', 'haven', 'aren', 'except', 'didn', 'throughout', 'can', 'here', 'without', 'once', 's', 'across', \"that'll\", 'has', 'mustn', 'just', 'did', 'doesn', 'up', 'each', \"won't\", \"don't\", 'hasn', 'until', 'doing', 'hadn', 'around', 'they', 'own', \"isn't\", 'he', 'through', 'other', 'such', 'what'}\n"
     ]
    }
   ],
   "source": [
    "print(stop_words)"
   ]
  },
  {
   "cell_type": "code",
   "execution_count": 9,
   "id": "b48da538",
   "metadata": {},
   "outputs": [],
   "source": [
    "#call the function\n",
    "cleaned_text = []\n",
    "for t in data['text']:\n",
    "    cleaned_text.append(text_cleaner(t,0)) "
   ]
  },
  {
   "cell_type": "code",
   "execution_count": 10,
   "id": "22709c25",
   "metadata": {},
   "outputs": [],
   "source": [
    "#call the function\n",
    "cleaned_summary = []\n",
    "for t in data['summary']:\n",
    "    cleaned_summary.append(text_cleaner(t,0))"
   ]
  },
  {
   "cell_type": "code",
   "execution_count": 11,
   "id": "e3b42292",
   "metadata": {},
   "outputs": [],
   "source": [
    "data['cleaned_text']=cleaned_text\n",
    "data['cleaned_summary']=cleaned_summary"
   ]
  },
  {
   "cell_type": "code",
   "execution_count": 12,
   "id": "76089ea7",
   "metadata": {},
   "outputs": [],
   "source": [
    "#data.replace('', np.nan, inplace=True)\n",
    "data.dropna(axis=0,inplace=True)"
   ]
  },
  {
   "cell_type": "code",
   "execution_count": 13,
   "id": "9effa8f0",
   "metadata": {},
   "outputs": [
    {
     "data": {
      "text/html": [
       "<div>\n",
       "<style scoped>\n",
       "    .dataframe tbody tr th:only-of-type {\n",
       "        vertical-align: middle;\n",
       "    }\n",
       "\n",
       "    .dataframe tbody tr th {\n",
       "        vertical-align: top;\n",
       "    }\n",
       "\n",
       "    .dataframe thead th {\n",
       "        text-align: right;\n",
       "    }\n",
       "</style>\n",
       "<table border=\"1\" class=\"dataframe\">\n",
       "  <thead>\n",
       "    <tr style=\"text-align: right;\">\n",
       "      <th></th>\n",
       "      <th>text</th>\n",
       "      <th>summary</th>\n",
       "      <th>cleaned_text</th>\n",
       "      <th>cleaned_summary</th>\n",
       "    </tr>\n",
       "  </thead>\n",
       "  <tbody>\n",
       "    <tr>\n",
       "      <th>0</th>\n",
       "      <td>TnT - A Statistical Part-Of-Speech Tagger Trigrams'n'Tags (TnT) is an efficient statistical part-of-speech tagger. Contrary to claims found elsewhere in the literature, we argue that a tagger base...</td>\n",
       "      <td>TnT - A Statistical Part-Of-Speech Tagger\\nTrigrams'n'Tags (TnT) is an efficient statistical part-of-speech tagger.\\nContrary to claims found elsewhere in the literature, we argue that a tagger ba...</td>\n",
       "      <td>tnt statistical part speech tagger trigrams tags efficient statistical part speech tagger contrary claims found elsewhere literature argue tagger based markov models performs least well current ap...</td>\n",
       "      <td>tnt statistical part speech tagger trigrams tags efficient statistical part speech tagger contrary claims found elsewhere literature argue tagger based markov models performs least well current ap...</td>\n",
       "    </tr>\n",
       "    <tr>\n",
       "      <th>1</th>\n",
       "      <td>Mildly Non-Projective Dependency Structures Syntactic parsing requires a fine balance between expressivity and complexity, so that naturally occurring structures can be accurately parsed without c...</td>\n",
       "      <td>Mildly Non-Projective Dependency Structures\\nSyntactic parsing requires a fine balance between expressivity and complexity, so that naturally occurring structures can be accurately parsed without ...</td>\n",
       "      <td>mildly non projective dependency structures syntactic parsing requires fine balance expressivity complexity naturally occurring structures accurately parsed compromising efficiency dependency base...</td>\n",
       "      <td>mildly non projective dependency structures syntactic parsing requires fine balance expressivity complexity naturally occurring structures accurately parsed compromising efficiency dependency base...</td>\n",
       "    </tr>\n",
       "    <tr>\n",
       "      <th>2</th>\n",
       "      <td>Using Corpus Statistics And WordNet Relations For Sense Identification Corpus-based approaches to word sense identification have flexibility and generality but suffer from a knowledge acquisition ...</td>\n",
       "      <td>Using Corpus Statistics And WordNet Relations For Sense Identification\\nCorpus-based approaches to word sense identification have flexibility and generality but suffer from a knowledge acquisition...</td>\n",
       "      <td>using corpus statistics wordnet relations sense identification corpus based approaches word sense identification flexibility generality suffer knowledge acquisition bottleneck show knowledge based...</td>\n",
       "      <td>using corpus statistics wordnet relations sense identification corpus based approaches word sense identification flexibility generality suffer knowledge acquisition bottleneck show knowledge based...</td>\n",
       "    </tr>\n",
       "    <tr>\n",
       "      <th>3</th>\n",
       "      <td>Automatic Labeling Of Semantic Roles present a system for identifying the semantic relationships, or filled by constituents of a sentence within a semantic frame. Given an input sentence and a tar...</td>\n",
       "      <td>Automatic Labeling Of Semantic Roles\\nWe present a system for identifying the semantic relationships, or semantic roles, filled by constituents of a sentence within a semantic frame.\\nGiven an inp...</td>\n",
       "      <td>automatic labeling semantic roles present system identifying semantic relationships filled constituents sentence semantic frame given input sentence target word frame system labels constituents ei...</td>\n",
       "      <td>automatic labeling semantic roles present system identifying semantic relationships semantic roles filled constituents sentence semantic frame given input sentence target word frame system labels ...</td>\n",
       "    </tr>\n",
       "    <tr>\n",
       "      <th>4</th>\n",
       "      <td>Generative Models For Statistical Parsing With Combinatory Categorial Grammar This paper compares a number of generative probability models for a widecoverage Combinatory Categorial Gram mar (CCG)...</td>\n",
       "      <td>Generative Models For Statistical Parsing With Combinatory Categorial Grammar\\nThis paper compares a number of generative probability models for a wide-coverage Combinatory Categorial Grammar (CCG...</td>\n",
       "      <td>generative models statistical parsing combinatory categorial grammar paper compares number generative probability models widecoverage combinatory categorial gram mar parser models trained tested c...</td>\n",
       "      <td>generative models statistical parsing combinatory categorial grammar paper compares number generative probability models wide coverage combinatory categorial grammar parser models trained tested c...</td>\n",
       "    </tr>\n",
       "  </tbody>\n",
       "</table>\n",
       "</div>"
      ],
      "text/plain": [
       "                                                                                                                                                                                                      text  \\\n",
       "0  TnT - A Statistical Part-Of-Speech Tagger Trigrams'n'Tags (TnT) is an efficient statistical part-of-speech tagger. Contrary to claims found elsewhere in the literature, we argue that a tagger base...   \n",
       "1  Mildly Non-Projective Dependency Structures Syntactic parsing requires a fine balance between expressivity and complexity, so that naturally occurring structures can be accurately parsed without c...   \n",
       "2  Using Corpus Statistics And WordNet Relations For Sense Identification Corpus-based approaches to word sense identification have flexibility and generality but suffer from a knowledge acquisition ...   \n",
       "3  Automatic Labeling Of Semantic Roles present a system for identifying the semantic relationships, or filled by constituents of a sentence within a semantic frame. Given an input sentence and a tar...   \n",
       "4  Generative Models For Statistical Parsing With Combinatory Categorial Grammar This paper compares a number of generative probability models for a widecoverage Combinatory Categorial Gram mar (CCG)...   \n",
       "\n",
       "                                                                                                                                                                                                   summary  \\\n",
       "0  TnT - A Statistical Part-Of-Speech Tagger\\nTrigrams'n'Tags (TnT) is an efficient statistical part-of-speech tagger.\\nContrary to claims found elsewhere in the literature, we argue that a tagger ba...   \n",
       "1  Mildly Non-Projective Dependency Structures\\nSyntactic parsing requires a fine balance between expressivity and complexity, so that naturally occurring structures can be accurately parsed without ...   \n",
       "2  Using Corpus Statistics And WordNet Relations For Sense Identification\\nCorpus-based approaches to word sense identification have flexibility and generality but suffer from a knowledge acquisition...   \n",
       "3  Automatic Labeling Of Semantic Roles\\nWe present a system for identifying the semantic relationships, or semantic roles, filled by constituents of a sentence within a semantic frame.\\nGiven an inp...   \n",
       "4  Generative Models For Statistical Parsing With Combinatory Categorial Grammar\\nThis paper compares a number of generative probability models for a wide-coverage Combinatory Categorial Grammar (CCG...   \n",
       "\n",
       "                                                                                                                                                                                              cleaned_text  \\\n",
       "0  tnt statistical part speech tagger trigrams tags efficient statistical part speech tagger contrary claims found elsewhere literature argue tagger based markov models performs least well current ap...   \n",
       "1  mildly non projective dependency structures syntactic parsing requires fine balance expressivity complexity naturally occurring structures accurately parsed compromising efficiency dependency base...   \n",
       "2  using corpus statistics wordnet relations sense identification corpus based approaches word sense identification flexibility generality suffer knowledge acquisition bottleneck show knowledge based...   \n",
       "3  automatic labeling semantic roles present system identifying semantic relationships filled constituents sentence semantic frame given input sentence target word frame system labels constituents ei...   \n",
       "4  generative models statistical parsing combinatory categorial grammar paper compares number generative probability models widecoverage combinatory categorial gram mar parser models trained tested c...   \n",
       "\n",
       "                                                                                                                                                                                           cleaned_summary  \n",
       "0  tnt statistical part speech tagger trigrams tags efficient statistical part speech tagger contrary claims found elsewhere literature argue tagger based markov models performs least well current ap...  \n",
       "1  mildly non projective dependency structures syntactic parsing requires fine balance expressivity complexity naturally occurring structures accurately parsed compromising efficiency dependency base...  \n",
       "2  using corpus statistics wordnet relations sense identification corpus based approaches word sense identification flexibility generality suffer knowledge acquisition bottleneck show knowledge based...  \n",
       "3  automatic labeling semantic roles present system identifying semantic relationships semantic roles filled constituents sentence semantic frame given input sentence target word frame system labels ...  \n",
       "4  generative models statistical parsing combinatory categorial grammar paper compares number generative probability models wide coverage combinatory categorial grammar parser models trained tested c...  "
      ]
     },
     "execution_count": 13,
     "metadata": {},
     "output_type": "execute_result"
    }
   ],
   "source": [
    "data.head()"
   ]
  },
  {
   "cell_type": "code",
   "execution_count": 14,
   "id": "66dbc306",
   "metadata": {},
   "outputs": [
    {
     "data": {
      "image/png": "[encoded data removed]",
      "text/plain": [
       "<Figure size 432x288 with 2 Axes>"
      ]
     },
     "metadata": {
      "needs_background": "light"
     },
     "output_type": "display_data"
    }
   ],
   "source": [
    "import matplotlib.pyplot as plt\n",
    "\n",
    "text_word_count = []\n",
    "summary_word_count = []\n",
    "\n",
    "# populate the lists with sentence lengths\n",
    "for i in data['cleaned_text']:\n",
    "      text_word_count.append(len(i.split()))\n",
    "\n",
    "for i in data['cleaned_summary']:\n",
    "      summary_word_count.append(len(i.split()))\n",
    "\n",
    "length_df = pd.DataFrame({'text':text_word_count, 'summary':summary_word_count})\n",
    "\n",
    "length_df.hist(bins = 80)\n",
    "plt.savefig('distribution.png', dpi=100)\n",
    "plt.show()\n"
   ]
  },
  {
   "cell_type": "code",
   "execution_count": 19,
   "id": "88f06c1b",
   "metadata": {},
   "outputs": [
    {
     "name": "stdout",
     "output_type": "stream",
     "text": [
      "0.8410596026490066\n"
     ]
    }
   ],
   "source": [
    "cnt=0\n",
    "for i in data['cleaned_summary']:\n",
    "    if(len(i.split())<=120):\n",
    "        cnt=cnt+1\n",
    "print(cnt/len(data['cleaned_summary']))"
   ]
  },
  {
   "cell_type": "code",
   "execution_count": 20,
   "id": "5a03d186",
   "metadata": {},
   "outputs": [
    {
     "name": "stdout",
     "output_type": "stream",
     "text": [
      "0.026490066225165563\n"
     ]
    }
   ],
   "source": [
    "cnt=0\n",
    "for i in data['cleaned_text']:\n",
    "    if(len(i.split())<=600):\n",
    "        cnt=cnt+1\n",
    "print(cnt/len(data['cleaned_text']))"
   ]
  },
  {
   "cell_type": "code",
   "execution_count": 18,
   "id": "e148415b",
   "metadata": {},
   "outputs": [],
   "source": [
    "max_text_len=600\n",
    "max_summary_len=120"
   ]
  },
  {
   "cell_type": "code",
   "execution_count": 34,
   "id": "1700b77e",
   "metadata": {},
   "outputs": [],
   "source": [
    "cleaned_text =np.array(data['cleaned_text'])\n",
    "cleaned_summary=np.array(data['cleaned_summary'])\n",
    "\n",
    "short_text=[]\n",
    "short_summary=[]\n",
    "\n",
    "for i in range(len(cleaned_text)):\n",
    "    if(len(cleaned_summary[i].split())<=max_summary_len and len(cleaned_text[i].split())<=max_text_len and len(cleaned_text[i].split())>100):\n",
    "        short_text.append(cleaned_text[i])\n",
    "        short_summary.append(cleaned_summary[i])\n",
    "        \n",
    "df=pd.DataFrame({'text':short_text,'summary':short_summary})"
   ]
  },
  {
   "cell_type": "code",
   "execution_count": 35,
   "id": "e3961174",
   "metadata": {},
   "outputs": [
    {
     "data": {
      "text/html": [
       "<div>\n",
       "<style scoped>\n",
       "    .dataframe tbody tr th:only-of-type {\n",
       "        vertical-align: middle;\n",
       "    }\n",
       "\n",
       "    .dataframe tbody tr th {\n",
       "        vertical-align: top;\n",
       "    }\n",
       "\n",
       "    .dataframe thead th {\n",
       "        text-align: right;\n",
       "    }\n",
       "</style>\n",
       "<table border=\"1\" class=\"dataframe\">\n",
       "  <thead>\n",
       "    <tr style=\"text-align: right;\">\n",
       "      <th></th>\n",
       "      <th>text</th>\n",
       "      <th>summary</th>\n",
       "    </tr>\n",
       "  </thead>\n",
       "  <tbody>\n",
       "    <tr>\n",
       "      <th>0</th>\n",
       "      <td>generative models statistical parsing combinatory categorial grammar paper compares number generative probability models widecoverage combinatory categorial gram mar parser models trained tested c...</td>\n",
       "      <td>generative models statistical parsing combinatory categorial grammar paper compares number generative probability models wide coverage combinatory categorial grammar parser models trained tested c...</td>\n",
       "    </tr>\n",
       "    <tr>\n",
       "      <th>1</th>\n",
       "      <td>bayesian learning tree substitution grammar tree substitution grammars offer many advantages context free grammars hard learn approaches resorted heuristics paper learn tsg using gibbs sampling no...</td>\n",
       "      <td>bayesian learning tree substitution grammar tree substitution grammars offer many advantages context free grammars hard learn approaches resorted heuristics paper learn tsg using gibbs sampling no...</td>\n",
       "    </tr>\n",
       "    <tr>\n",
       "      <th>2</th>\n",
       "      <td>efficient parsing highly ambiguous context free grammars bit vectors efficient bit vector based cky style parser context free parsing presented parser computes compact parse forest representation ...</td>\n",
       "      <td>efficient parsing highly ambiguous context free grammars bit vectors efficient bit vector based cky style parser context free parsing presented parser computes compact parse forest representation ...</td>\n",
       "    </tr>\n",
       "    <tr>\n",
       "      <th>3</th>\n",
       "      <td>coreference resolution performance metrics paper proposes constrained entity alignment measure evaluatingcoreference resolution metric com puted aligning reference system entities constraint syste...</td>\n",
       "      <td>coreference resolution performance metrics paper proposes constrained entity alignment measure evaluating coreference resolution metric computed aligning reference system entities constraint syste...</td>\n",
       "    </tr>\n",
       "    <tr>\n",
       "      <th>4</th>\n",
       "      <td>building large scale annotated chinese corpus paper address issues related building large scale chinese corpus try answer four questions speed annotation maintain high annotation quality purposes ...</td>\n",
       "      <td>building large scale annotated chinese corpus paper address issues related building large scale chinese corpus try answer four questions speed annotation maintain high annotation quality purposes ...</td>\n",
       "    </tr>\n",
       "  </tbody>\n",
       "</table>\n",
       "</div>"
      ],
      "text/plain": [
       "                                                                                                                                                                                                      text  \\\n",
       "0  generative models statistical parsing combinatory categorial grammar paper compares number generative probability models widecoverage combinatory categorial gram mar parser models trained tested c...   \n",
       "1  bayesian learning tree substitution grammar tree substitution grammars offer many advantages context free grammars hard learn approaches resorted heuristics paper learn tsg using gibbs sampling no...   \n",
       "2  efficient parsing highly ambiguous context free grammars bit vectors efficient bit vector based cky style parser context free parsing presented parser computes compact parse forest representation ...   \n",
       "3  coreference resolution performance metrics paper proposes constrained entity alignment measure evaluatingcoreference resolution metric com puted aligning reference system entities constraint syste...   \n",
       "4  building large scale annotated chinese corpus paper address issues related building large scale chinese corpus try answer four questions speed annotation maintain high annotation quality purposes ...   \n",
       "\n",
       "                                                                                                                                                                                                   summary  \n",
       "0  generative models statistical parsing combinatory categorial grammar paper compares number generative probability models wide coverage combinatory categorial grammar parser models trained tested c...  \n",
       "1  bayesian learning tree substitution grammar tree substitution grammars offer many advantages context free grammars hard learn approaches resorted heuristics paper learn tsg using gibbs sampling no...  \n",
       "2  efficient parsing highly ambiguous context free grammars bit vectors efficient bit vector based cky style parser context free parsing presented parser computes compact parse forest representation ...  \n",
       "3  coreference resolution performance metrics paper proposes constrained entity alignment measure evaluating coreference resolution metric computed aligning reference system entities constraint syste...  \n",
       "4  building large scale annotated chinese corpus paper address issues related building large scale chinese corpus try answer four questions speed annotation maintain high annotation quality purposes ...  "
      ]
     },
     "execution_count": 35,
     "metadata": {},
     "output_type": "execute_result"
    }
   ],
   "source": [
    "df.drop_duplicates\n",
    "df.head()"
   ]
  },
  {
   "cell_type": "code",
   "execution_count": 36,
   "id": "a168dddb",
   "metadata": {},
   "outputs": [],
   "source": [
    "df['summary'] = df['summary'].apply(lambda x : 'sostok '+ x + ' eostok')"
   ]
  },
  {
   "cell_type": "code",
   "execution_count": 37,
   "id": "5e83da74",
   "metadata": {},
   "outputs": [],
   "source": [
    "from sklearn.model_selection import train_test_split\n",
    "\n",
    "x_tr,x_val,y_tr,y_val=train_test_split(np.array(df['text']),np.array(df['summary']),test_size=0.2,random_state=0,shuffle=True) "
   ]
  },
  {
   "cell_type": "code",
   "execution_count": 38,
   "id": "cca992e4",
   "metadata": {},
   "outputs": [],
   "source": [
    "from keras.preprocessing.text import Tokenizer \n",
    "from keras_preprocessing.sequence import pad_sequences\n",
    "\n",
    "#prepare a tokenizer on training data\n",
    "x_tokenizer = Tokenizer() \n",
    "x_tokenizer.fit_on_texts(list(x_tr))"
   ]
  },
  {
   "cell_type": "code",
   "execution_count": 39,
   "id": "ff8c7fc0",
   "metadata": {},
   "outputs": [
    {
     "name": "stdout",
     "output_type": "stream",
     "text": [
      "% of rare words in vocabulary: 87.22677595628416\n",
      "Total Coverage of rare words: 55.76814856499719\n"
     ]
    }
   ],
   "source": [
    "thresh=5\n",
    "\n",
    "cnt=0\n",
    "tot_cnt=0\n",
    "freq=0\n",
    "tot_freq=0\n",
    "\n",
    "for key,value in x_tokenizer.word_counts.items():\n",
    "    tot_cnt=tot_cnt+1\n",
    "    tot_freq=tot_freq+value\n",
    "    if(value<thresh):\n",
    "        cnt=cnt+1\n",
    "        freq=freq+value\n",
    "    \n",
    "print(\"% of rare words in vocabulary:\",(cnt/tot_cnt)*100)\n",
    "print(\"Total Coverage of rare words:\",(freq/tot_freq)*100)"
   ]
  },
  {
   "cell_type": "code",
   "execution_count": 40,
   "id": "b0e3a29e",
   "metadata": {},
   "outputs": [],
   "source": [
    "#prepare a tokenizer on training data\n",
    "x_tokenizer = Tokenizer(num_words=tot_cnt-cnt) \n",
    "x_tokenizer.fit_on_texts(list(x_tr))\n",
    "\n",
    "#convert text sequences into integer sequences\n",
    "x_tr_seq    =   x_tokenizer.texts_to_sequences(x_tr) \n",
    "x_val_seq   =   x_tokenizer.texts_to_sequences(x_val)\n",
    "\n",
    "#padding zero upto maximum length\n",
    "x_tr    =   pad_sequences(x_tr_seq,  maxlen=max_text_len, padding='post')\n",
    "x_val   =   pad_sequences(x_val_seq, maxlen=max_text_len, padding='post')\n",
    "\n",
    "#size of vocabulary ( +1 for padding token)\n",
    "x_voc   =  x_tokenizer.num_words + 1"
   ]
  },
  {
   "cell_type": "code",
   "execution_count": 41,
   "id": "a9aeb1a1",
   "metadata": {},
   "outputs": [
    {
     "data": {
      "text/plain": [
       "188"
      ]
     },
     "execution_count": 41,
     "metadata": {},
     "output_type": "execute_result"
    }
   ],
   "source": [
    "x_voc"
   ]
  },
  {
   "cell_type": "code",
   "execution_count": 42,
   "id": "513939b4",
   "metadata": {},
   "outputs": [],
   "source": [
    "#prepare a tokenizer for reviews on training data\n",
    "y_tokenizer = Tokenizer()   \n",
    "y_tokenizer.fit_on_texts(list(y_tr))"
   ]
  },
  {
   "cell_type": "code",
   "execution_count": 43,
   "id": "30359a7d",
   "metadata": {},
   "outputs": [
    {
     "name": "stdout",
     "output_type": "stream",
     "text": [
      "% of rare words in vocabulary: 0.0\n",
      "Total Coverage of rare words: 0.0\n"
     ]
    }
   ],
   "source": [
    "thresh=0\n",
    "\n",
    "cnt=0\n",
    "tot_cnt=0\n",
    "freq=0\n",
    "tot_freq=0\n",
    "\n",
    "for key,value in y_tokenizer.word_counts.items():\n",
    "    tot_cnt=tot_cnt+1\n",
    "    tot_freq=tot_freq+value\n",
    "    if(value<thresh):\n",
    "        cnt=cnt+1\n",
    "        freq=freq+value\n",
    "    \n",
    "print(\"% of rare words in vocabulary:\",(cnt/tot_cnt)*100)\n",
    "print(\"Total Coverage of rare words:\",(freq/tot_freq)*100)"
   ]
  },
  {
   "cell_type": "code",
   "execution_count": 44,
   "id": "5563fccc",
   "metadata": {},
   "outputs": [],
   "source": [
    "#prepare a tokenizer on training data\n",
    "y_tokenizer = Tokenizer(num_words=tot_cnt-cnt) \n",
    "y_tokenizer.fit_on_texts(list(y_tr))\n",
    "\n",
    "#convert text sequences into integer sequences\n",
    "y_tr_seq    =   y_tokenizer.texts_to_sequences(y_tr) \n",
    "y_val_seq   =   y_tokenizer.texts_to_sequences(y_val) \n",
    "\n",
    "#padding zero upto maximum length\n",
    "y_tr    =   pad_sequences(y_tr_seq, maxlen=max_summary_len, padding='post')\n",
    "y_val   =   pad_sequences(y_val_seq, maxlen=max_summary_len, padding='post')\n",
    "\n",
    "#size of vocabulary\n",
    "y_voc  =   y_tokenizer.num_words +1"
   ]
  },
  {
   "cell_type": "code",
   "execution_count": 45,
   "id": "93c31767",
   "metadata": {},
   "outputs": [
    {
     "data": {
      "text/plain": [
       "(6, 6)"
      ]
     },
     "execution_count": 45,
     "metadata": {},
     "output_type": "execute_result"
    }
   ],
   "source": [
    "y_tokenizer.word_counts['sostok'],len(y_tr)  "
   ]
  },
  {
   "cell_type": "code",
   "execution_count": 46,
   "id": "838e702e",
   "metadata": {},
   "outputs": [],
   "source": [
    "ind=[]\n",
    "for i in range(len(y_tr)):\n",
    "    cnt=0\n",
    "    for j in y_tr[i]:\n",
    "        if j!=0:\n",
    "            cnt=cnt+1\n",
    "    if(cnt==2):\n",
    "        ind.append(i)\n",
    "\n",
    "y_tr=np.delete(y_tr,ind, axis=0)\n",
    "x_tr=np.delete(x_tr,ind, axis=0)"
   ]
  },
  {
   "cell_type": "code",
   "execution_count": 47,
   "id": "7d22f423",
   "metadata": {},
   "outputs": [],
   "source": [
    "ind=[]\n",
    "for i in range(len(y_val)):\n",
    "    cnt=0\n",
    "    for j in y_val[i]:\n",
    "        if j!=0:\n",
    "            cnt=cnt+1\n",
    "    if(cnt==2):\n",
    "        ind.append(i)\n",
    "\n",
    "y_val=np.delete(y_val,ind, axis=0)\n",
    "x_val=np.delete(x_val,ind, axis=0)"
   ]
  },
  {
   "cell_type": "code",
   "execution_count": 48,
   "id": "dad180ef",
   "metadata": {},
   "outputs": [
    {
     "name": "stdout",
     "output_type": "stream",
     "text": [
      "Model: \"model\"\n",
      "__________________________________________________________________________________________________\n",
      " Layer (type)                   Output Shape         Param #     Connected to                     \n",
      "==================================================================================================\n",
      " input_1 (InputLayer)           [(None, 900)]        0           []                               \n",
      "                                                                                                  \n",
      " embedding (Embedding)          (None, 900, 200)     37600       ['input_1[0][0]']                \n",
      "                                                                                                  \n",
      " lstm (LSTM)                    [(None, 900, 500),   1402000     ['embedding[0][0]']              \n",
      "                                 (None, 500),                                                     \n",
      "                                 (None, 500)]                                                     \n",
      "                                                                                                  \n",
      " input_2 (InputLayer)           [(None, None)]       0           []                               \n",
      "                                                                                                  \n",
      " lstm_1 (LSTM)                  [(None, 900, 500),   2002000     ['lstm[0][0]']                   \n",
      "                                 (None, 500),                                                     \n",
      "                                 (None, 500)]                                                     \n",
      "                                                                                                  \n",
      " embedding_1 (Embedding)        (None, None, 200)    51000       ['input_2[0][0]']                \n",
      "                                                                                                  \n",
      " lstm_2 (LSTM)                  [(None, 900, 500),   2002000     ['lstm_1[0][0]']                 \n",
      "                                 (None, 500),                                                     \n",
      "                                 (None, 500)]                                                     \n",
      "                                                                                                  \n",
      " lstm_3 (LSTM)                  [(None, None, 500),  1402000     ['embedding_1[0][0]',            \n",
      "                                 (None, 500),                     'lstm_2[0][1]',                 \n",
      "                                 (None, 500)]                     'lstm_2[0][2]']                 \n",
      "                                                                                                  \n",
      " time_distributed (TimeDistribu  (None, None, 255)   127755      ['lstm_3[0][0]']                 \n",
      " ted)                                                                                             \n",
      "                                                                                                  \n",
      "==================================================================================================\n",
      "Total params: 7,024,355\n",
      "Trainable params: 7,024,355\n",
      "Non-trainable params: 0\n",
      "__________________________________________________________________________________________________\n"
     ]
    }
   ],
   "source": [
    "from keras import backend as K \n",
    "K.clear_session()\n",
    "\n",
    "latent_dim = 500\n",
    "embedding_dim=200\n",
    "\n",
    "# Encoder\n",
    "encoder_inputs = Input(shape=(max_text_len,))\n",
    "\n",
    "#embedding layer\n",
    "enc_emb =  Embedding(x_voc, embedding_dim,trainable=True)(encoder_inputs)\n",
    "\n",
    "#encoder lstm 1\n",
    "encoder_lstm1 = LSTM(latent_dim,return_sequences=True,return_state=True,dropout=0.4,recurrent_dropout=0.4)\n",
    "encoder_output1, state_h1, state_c1 = encoder_lstm1(enc_emb)\n",
    "\n",
    "#encoder lstm 2\n",
    "encoder_lstm2 = LSTM(latent_dim,return_sequences=True,return_state=True,dropout=0.4,recurrent_dropout=0.4)\n",
    "encoder_output2, state_h2, state_c2 = encoder_lstm2(encoder_output1)\n",
    "\n",
    "#encoder lstm 3\n",
    "encoder_lstm3=LSTM(latent_dim, return_state=True, return_sequences=True,dropout=0.4,recurrent_dropout=0.4)\n",
    "encoder_outputs, state_h, state_c= encoder_lstm3(encoder_output2)\n",
    "\n",
    "# Set up the decoder, using `encoder_states` as initial state.\n",
    "decoder_inputs = Input(shape=(None,))\n",
    "\n",
    "#embedding layer\n",
    "dec_emb_layer = Embedding(y_voc, embedding_dim,trainable=True)\n",
    "dec_emb = dec_emb_layer(decoder_inputs)\n",
    "\n",
    "decoder_lstm = LSTM(latent_dim, return_sequences=True, return_state=True,dropout=0.4,recurrent_dropout=0.2)\n",
    "decoder_outputs,decoder_fwd_state, decoder_back_state = decoder_lstm(dec_emb,initial_state=[state_h, state_c])\n",
    "\n",
    "#dense layer\n",
    "decoder_dense =  TimeDistributed(Dense(y_voc, activation='softmax'))\n",
    "decoder_outputs = decoder_dense(decoder_outputs)\n",
    "\n",
    "# Define the model \n",
    "model = Model([encoder_inputs, decoder_inputs], decoder_outputs)\n",
    "\n",
    "model.summary()"
   ]
  },
  {
   "cell_type": "code",
   "execution_count": 51,
   "id": "b1cf8bd4",
   "metadata": {},
   "outputs": [],
   "source": [
    "model.compile(optimizer='rmsprop', loss='sparse_categorical_crossentropy')"
   ]
  },
  {
   "cell_type": "code",
   "execution_count": 52,
   "id": "309d82c9",
   "metadata": {},
   "outputs": [],
   "source": [
    "es = EarlyStopping(monitor='val_loss', mode='min', verbose=1,patience=2)"
   ]
  },
  {
   "cell_type": "code",
   "execution_count": null,
   "id": "ad64954d",
   "metadata": {},
   "outputs": [
    {
     "name": "stdout",
     "output_type": "stream",
     "text": [
      "Epoch 1/10\n"
     ]
    }
   ],
   "source": [
    "history=model.fit([x_tr,y_tr[:,:-1]], y_tr.reshape(y_tr.shape[0],y_tr.shape[1], 1)[:,1:] ,epochs=10,callbacks=[es],batch_size=128, validation_data=([x_val,y_val[:,:-1]], y_val.reshape(y_val.shape[0],y_val.shape[1], 1)[:,1:]))"
   ]
  },
  {
   "cell_type": "code",
   "execution_count": 230,
   "id": "39fa6b23",
   "metadata": {},
   "outputs": [
    {
     "data": {
      "image/png": "[encoded data removed]",
      "text/plain": [
       "<Figure size 432x288 with 1 Axes>"
      ]
     },
     "metadata": {
      "needs_background": "light"
     },
     "output_type": "display_data"
    }
   ],
   "source": [
    "from matplotlib import pyplot\n",
    "\n",
    "pyplot.plot(history.history['loss'], label='train')\n",
    "pyplot.plot(history.history['val_loss'], label='test')\n",
    "pyplot.legend()\n",
    "pyplot.savefig(\"val_loss.png\",dpi = 100)\n",
    "pyplot.show()"
   ]
  },
  {
   "cell_type": "code",
   "execution_count": 222,
   "id": "9727d114",
   "metadata": {},
   "outputs": [],
   "source": [
    "reverse_target_word_index=y_tokenizer.index_word\n",
    "reverse_source_word_index=x_tokenizer.index_word\n",
    "target_word_index=y_tokenizer.word_index"
   ]
  },
  {
   "cell_type": "code",
   "execution_count": 223,
   "id": "9e51bdb6",
   "metadata": {},
   "outputs": [],
   "source": [
    "# Encode the input sequence to get the feature vector\n",
    "encoder_model = Model(inputs=encoder_inputs,outputs=[encoder_outputs, state_h, state_c])\n",
    "\n",
    "# Decoder setup\n",
    "# Below tensors will hold the states of the previous time step\n",
    "decoder_state_input_h = Input(shape=(latent_dim,))\n",
    "decoder_state_input_c = Input(shape=(latent_dim,))\n",
    "decoder_hidden_state_input = Input(shape=(max_text_len,latent_dim))\n",
    "\n",
    "# Get the embeddings of the decoder sequence\n",
    "dec_emb2= dec_emb_layer(decoder_inputs) \n",
    "# To predict the next word in the sequence, set the initial states to the states from the previous time step\n",
    "decoder_outputs2, state_h2, state_c2 = decoder_lstm(dec_emb2, initial_state=[decoder_state_input_h, decoder_state_input_c])\n",
    "\n",
    "# A dense softmax layer to generate prob dist. over the target vocabulary\n",
    "decoder_outputs2 = decoder_dense(decoder_outputs2) \n",
    "\n",
    "# Final decoder model\n",
    "decoder_model = Model(\n",
    "    [decoder_inputs] + [decoder_hidden_state_input,decoder_state_input_h, decoder_state_input_c],\n",
    "    [decoder_outputs2] + [state_h2, state_c2])"
   ]
  },
  {
   "cell_type": "code",
   "execution_count": 224,
   "id": "9b2b3265",
   "metadata": {},
   "outputs": [],
   "source": [
    "def decode_sequence(input_seq):\n",
    "    # Encode the input as state vectors.\n",
    "    e_out, e_h, e_c = encoder_model.predict(input_seq)\n",
    "    \n",
    "    # Generate empty target sequence of length 1.\n",
    "    target_seq = np.zeros((1,1))\n",
    "    \n",
    "    # Populate the first word of target sequence with the start word.\n",
    "    target_seq[0, 0] = target_word_index['sostok']\n",
    "\n",
    "    stop_condition = False\n",
    "    decoded_sentence = ''\n",
    "    while not stop_condition:\n",
    "      \n",
    "        output_tokens, h, c = decoder_model.predict([target_seq] + [e_out, e_h, e_c])\n",
    "\n",
    "        # Sample a token\n",
    "        sampled_token_index = np.argmax(output_tokens[0, -1, 2:]) + 2\n",
    "        sampled_token = reverse_target_word_index[sampled_token_index]\n",
    "        \n",
    "        if(sampled_token!='eostok'):\n",
    "            decoded_sentence += ' '+sampled_token\n",
    "\n",
    "        # Exit condition: either hit max length or find stop word.\n",
    "        if (sampled_token == 'eostok'  or len(decoded_sentence.split()) >= (max_summary_len-1)):\n",
    "            stop_condition = True\n",
    "\n",
    "        # Update the target sequence (of length 1).\n",
    "        target_seq = np.zeros((1,1))\n",
    "        target_seq[0, 0] = sampled_token_index\n",
    "\n",
    "        # Update internal states\n",
    "        e_h, e_c = h, c\n",
    "\n",
    "    return decoded_sentence"
   ]
  },
  {
   "cell_type": "code",
   "execution_count": 225,
   "id": "2ccdd832",
   "metadata": {},
   "outputs": [],
   "source": [
    "def seq2summary(input_seq):\n",
    "    newString=''\n",
    "    for i in input_seq:\n",
    "        if((i!=0 and i!=target_word_index['sostok']) and i!=target_word_index['eostok']):\n",
    "            newString=newString+reverse_target_word_index[i]+' '\n",
    "    return newString\n",
    "\n",
    "def seq2text(input_seq):\n",
    "    newString=''\n",
    "    for i in input_seq:\n",
    "        if(i!=0):\n",
    "            newString=newString+reverse_source_word_index[i]+' '\n",
    "    return newString"
   ]
  },
  {
   "cell_type": "code",
   "execution_count": 234,
   "id": "ee0f2922",
   "metadata": {},
   "outputs": [
    {
     "name": "stdout",
     "output_type": "stream",
     "text": [
      "Review: procedure comparing syntactic coverage english grammars following constituents single parse would grammar specify three brown corpus sentences one specific among grammars con analysis hand words attach attach elements right verb phrase nodes either verb verb phrase parse hand parse sentence tree two parse procedure three steps parse evaluated fully parsed sentence categories word parenthesis pairs either constituent word compute input parse comparing penn treebank parse sentence example brown corpus sentence best need candidate parse step two treebank output sentence steps one two step three consists comparing candidate parse treebank parse two scores parentheses score number treebank parse evaluated input parentheses recall score number parenthesis pairs intersection candidate treebank parses number parenthesis pairs treebank parse score measure standard candidate parses theory candidate parse constituent analysis input sentence metric sentences brown instead using treebank standard used parse sentence set candidate parses average parentheses grammars recall score three categories input parses parses standard current one number parse standard parse since hand current metric brown corpus data parsed measure performance grammars set sentences evaluation procedure english grammars input parse evaluation input word string follows verb used sentence analysis verb split johns good johns good johns johns words left parse input word string grammar evaluation constituent input using parentheses constituent labels may left parentheses right parentheses input elements two steps necessary parsed input consists word parse would categories example nota bene nota bene example nota bene nota bene word second second almost almost constituent parentheses second two steps necessary initial parsed input evaluation consists parenthesis pairs portion either single constituent word example best need parse note single word left elements node verb constituent example constituents step process initial parsed input evaluation necessary parse three different analysis currently accepted group step consists constituent standard three extraposition noun phrases sequences constituent constituent extraposition accepted present node example initial analysis change standard follows note example extraposition therefore extraposition sentence like good noun phrases accepted present noun phrase single node example initial analysis change standard follows sequences constituent initial constituent sequences phrase currently accepted practice attach phrase node sequences verb phrase constituent head standard attach top node constituent example initial analysis change standard follows evaluation number constituents incompatible standard parse sentence analysis compare constituents standard parse parse evaluation first sentence number constituents parse evaluated constituents standard parse example standard parse parse evaluation spending constituents parse evaluation cutting cutting back spending cutting back spending cutting back spending cutting back constituents standard constituent standard parse constituents incompatible standard score sentence recall precision parse evaluated recall number standard parse constituents candidate number standard parse constituents precision number candidate parse constituents standard number candidate parse constituents number constituents standard parse candidate parse simply number standard parse constituents candidate number candidate parse constituents standard different intersection set standard parse constituents set candidate parse constituents recall precision number elements intersection first example standard parse parse evaluation spending standard parse constituents unary constituents candidate parse constituents three sets intersection recall precision parse follows recall precision order evaluate set parses first simply compute distribution incompatible constituents scores parses set incompatible constituents average recall precision scores parses set average recall average precision \n",
      "Original summary: grammars parsing \n",
      "1/1 [==============================] - 12s 12s/step\n",
      "1/1 [==============================] - 0s 22ms/step\n",
      "1/1 [==============================] - 0s 24ms/step\n",
      "1/1 [==============================] - 0s 23ms/step\n",
      "1/1 [==============================] - 0s 26ms/step\n",
      "1/1 [==============================] - 0s 23ms/step\n",
      "Predicted summary:  grammars grammars grammars grammars\n",
      "\n",
      "\n",
      "Review: parsing context free grammars bit bit vector based cky parser context free parsing parser parse forest representation set possible analyses treebank grammars input parser bit vector parsing parser analyses rather probable one large context free grammars extracted tree coverage accuracy parse application standard chart parsing often runtime treebank grammars used grammars best analysis viterbi parse speed viterbi parsing developed probable set possible analyses number parser described paper follows approach instead number runtime new parser called based bit vector well algorithm parse forest representation two steps first step cky recogniser chart constituents second step parse forest top chart viterbi parses steps first step cky recogniser top chart viterbi top extraction best parse paper follows sec grammar normal form following recogniser algorithm recogniser bit vector generation parse viterbi parses section new sec results section paper cky algorithm grammar normal form right hand either consists two non single terminal cky algorithm also rules input grammar free terminal symbols unary rules rules non right hand split algorithm algorithm number rules symbols first algorithm consists following rules either unary compute pairs symbols right hand rules rule \n",
      "Original summary: parsing grammars parsing grammars parsing grammars \n",
      "1/1 [==============================] - 12s 12s/step\n",
      "1/1 [==============================] - 0s 23ms/step\n",
      "1/1 [==============================] - 0s 22ms/step\n",
      "1/1 [==============================] - 0s 23ms/step\n",
      "1/1 [==============================] - 0s 21ms/step\n",
      "1/1 [==============================] - 0s 20ms/step\n",
      "Predicted summary:  grammars grammars grammars grammars\n",
      "\n",
      "\n",
      "Review: learning tree grammar tree grammars many context free grammars learn past paper learn tsg using gibbs sampling prior subtree size grammars extracted ones parsing accuracy tree grammars context free grammars learn grammars learning annotated like penn treebank derivations assume standard cfg since different tsg derivations parse tree learning must derivations number tree size subtree extraction large subtrees training data language segmentation many using gibbs sampling address address problem paper learn tree grammar evaluate parsing task compare previous work tsgs subtrees size context free practice tsgs larger rules context grammars furthermore subtrees terminal symbols learning dependencies among words subtree need automatic lexical dependencies following standard probability derivation grammar given rule used derivation cfg parse tree derivation derivations tsg parse parse probability derivations parses derivations learning task tsgs practice probable parse sampling derivation forest top derivations grammar learning well portion penn treebank model simply training data annotated tsg derivations treebank parse tree nodes among possible derivations one would treebank tsg derivations task one grammar tsgs data best set subtrees one approach grammar learning parsing simply subtrees training data grammar subtrees treebank subtrees subtree two compared performance grammar minimal subset performance good score section approach however instead extraction would model subtrees grammar furthermore subtrees lexical average test large subtrees small ones grammar extraction comparing two grammars would like data set subtrees grammar would like smaller subtrees larger ones data segmentation following learning tsg penn treebank prior gibbs sampling prior refer training data set parse trees assume tsg probability using rule compute probability grammar distribution grammars use set process one set grammar distribution two base measure base measure probability subtree rules distribution number rules smaller subtrees probability subtrees sampled grammar given head used sampler rather segmentation parse trees use gibbs sampler possible grammars based chinese process representation gibbs sampler procedure parse tree corpus annotated specific derivation node tree binary subtree rooted node subtree gibbs sampler non terminal non node parse tree training data subtrees rooted split according probability probability sub subtree node sub subtree rooted binary single subtree two ones sub sub subtree probability function current training corpus base measure subtrees portion training corpus subtree among used standard split portion treebank training results sentences words section compare three grammars note two work large scores minimal grammar reported parsing lexical subtrees probable parse top single derivation instead top rule grammars set gibbs sampler grammar derivations sampled grammars two subtree counts derivation first sampling counts treebank cfg rules counts standard cky parser gibbs sampler tsg subtrees cfg rules probable rule according input larger minimal subset grammar sampled grammars rules best single sampled grammar almost one sampled grammars larger grammar figure shows subtree size counts subtrees used parsing parsing minimal subset grammar subtrees accuracy sentence scores use larger subtrees accuracy however accuracy rules subtree used parsing sampled grammar grammar gibbs sampling prior smaller rules gibbs sampling prior task learning tsg sampled grammars model based simple specify subtree size extracted grammars previous work well grammar many rules work \n",
      "Original summary: grammars grammars grammars parsing \n"
     ]
    },
    {
     "name": "stdout",
     "output_type": "stream",
     "text": [
      "1/1 [==============================] - 12s 12s/step\n",
      "1/1 [==============================] - 0s 23ms/step\n",
      "1/1 [==============================] - 0s 28ms/step\n",
      "1/1 [==============================] - 0s 26ms/step\n",
      "1/1 [==============================] - 0s 27ms/step\n",
      "1/1 [==============================] - 0s 22ms/step\n",
      "Predicted summary:  grammars grammars grammars grammars\n",
      "\n",
      "\n",
      "Review: models parsing combinatory categorial grammar paper number probability models combinatory categorial parser models corpus penn treebank trees ccg normal form derivations according evaluation word word dependencies best model performance given grammar word word dependencies currently best single model parser scores penn treebank however grammar penn treebank parser well standard elements coverage parsing ccg grammar present number models derivations combinatory categorial grammar penn treebank corpus ccg normal form derivations ccg grammars larger standard penn treebank grammars example many different categorial lexicon extracted training corpus categories pos penn treebank hand grammar rules ccg small number simple unary binary combinatory function application results smaller grammar standard since ccg unary binary branching trees category set ccg scores compared scores standard treebank therefore performance using dependency evaluation reported counts word word dependencies trees labels according metric tree node head daughter non head daughter dependency head word head word branching hockenmaier analyses nnp nnp nnp nnp nnp figure ccg derivation corpus scores compared grammars different sets labels different trees order compare performance parser also evaluate best model according dependency evaluation parser refer hockenmaier ccgbank corpus ccg normal form derivations penn tree trees using algorithm described hockenmaier almost procedure sentences training corpus sentences test corpus grammar set rules lexical rules described figure shows derivation ccgbank categories tree therefore constituent ccg automatic must best treebank categories ccgbank features past past tense past noun phrases like penn treebank noun phrases number derivations ccgbank normal form analyses combinatory rules used necessary exp exp con exp con exp con exp exp exp exp table models models described simple model models derivations top tree process model described hockenmaier ccgbank definition top row table given node category exp exp unary left right node generate head word generate category head daughter binary branching category non head daughter model prior knowledge ccg unary branching trees sets reported section using ccgbank training corpus section test corpus words training data pos reported section set assume test data pos therefore words test data pos like ccg large set lexical categories one words performance model top row table sentences test corpus parse lexicon word category pairs training corpus parse test corpus simple problem section use many features head words nodes model described previous section features like models features model parser function structure order model specific specific \n",
      "Original summary: parsing \n",
      "1/1 [==============================] - 14s 14s/step\n",
      "1/1 [==============================] - 0s 22ms/step\n",
      "1/1 [==============================] - 0s 21ms/step\n",
      "1/1 [==============================] - 0s 22ms/step\n",
      "1/1 [==============================] - 0s 22ms/step\n",
      "1/1 [==============================] - 0s 21ms/step\n",
      "Predicted summary:  grammars grammars grammars grammars\n",
      "\n",
      "\n"
     ]
    }
   ],
   "source": [
    "for i in range(0,4):\n",
    "    print(\"Review:\",seq2text(x_tr[i]))\n",
    "    print(\"Original summary:\",seq2summary(y_tr[i]))\n",
    "    print(\"Predicted summary:\",decode_sequence(x_tr[i].reshape(1,max_text_len)))\n",
    "    print(\"\\n\")"
   ]
  },
  {
   "cell_type": "code",
   "execution_count": 237,
   "id": "7da9cb66",
   "metadata": {},
   "outputs": [
    {
     "name": "stdout",
     "output_type": "stream",
     "text": [
      "{'rouge-1': {'r': 0.3142857142857143, 'p': 0.3142857142857143, 'f': 0.3142857142857143}, 'rouge-2': {'r': 0.0, 'p': 0.0, 'f': 0.0}, 'rouge-3': {'r': 0.0, 'p': 0.0, 'f': 0.0}, 'rouge-l': {'r': 0.3142857142857143, 'p': 0.3142857142857143, 'f': 0.3142857142857143}, 'rouge-w-1.2': {'r': 0.3142857142857143, 'p': 0.3142857142857143, 'f': 0.3142857142857143}, 'rouge-s3': {'r': 0.0, 'p': 0.0, 'f': 0.0}, 'rouge-su3': {'r': 0.0, 'p': 0.0, 'f': 0.0}}\n"
     ]
    }
   ],
   "source": [
    "from rouge_metric import PyRouge\n",
    "hypotheses =\"grammars parsing\"\n",
    "reference =\"grammars grammars grammars grammars\"\n",
    "\n",
    "hypotheses = hypotheses.ljust(len(reference))[:len(reference)]\n",
    "# Evaluate on tokenized documents\n",
    "rouge = PyRouge(rouge_n=(1, 2, 3), rouge_l=True, rouge_w=True,\n",
    "                rouge_w_weight=1.2, rouge_s=True, rouge_su=True, skip_gap=3)\n",
    "scores = rouge.evaluate_tokenized(hypotheses, reference)\n",
    "print(scores)"
   ]
  },
  {
   "cell_type": "code",
   "execution_count": 238,
   "id": "c0ea2662",
   "metadata": {},
   "outputs": [
    {
     "name": "stdout",
     "output_type": "stream",
     "text": [
      "{'rouge-1': {'r': 0.7714285714285715, 'p': 0.7714285714285715, 'f': 0.7714285714285715}, 'rouge-2': {'r': 0.0, 'p': 0.0, 'f': 0.0}, 'rouge-3': {'r': 0.0, 'p': 0.0, 'f': 0.0}, 'rouge-l': {'r': 0.7714285714285715, 'p': 0.7714285714285715, 'f': 0.7714285714285715}, 'rouge-w-1.2': {'r': 0.7714285714285715, 'p': 0.7714285714285715, 'f': 0.7714285714285715}, 'rouge-s3': {'r': 0.0, 'p': 0.0, 'f': 0.0}, 'rouge-su3': {'r': 0.0, 'p': 0.0, 'f': 0.0}}\n"
     ]
    }
   ],
   "source": [
    "from rouge_metric import PyRouge\n",
    "hypotheses =\"grammars grammars grammars parsing \"\n",
    "reference =\"grammars grammars grammars grammars\"\n",
    "\n",
    "hypotheses = hypotheses.ljust(len(reference))[:len(reference)]\n",
    "# Evaluate on tokenized documents\n",
    "rouge = PyRouge(rouge_n=(1, 2, 3), rouge_l=True, rouge_w=True,\n",
    "                rouge_w_weight=1.2, rouge_s=True, rouge_su=True, skip_gap=3)\n",
    "scores = rouge.evaluate_tokenized(hypotheses, reference)\n",
    "print(scores)"
   ]
  },
  {
   "cell_type": "code",
   "execution_count": 289,
   "id": "92092432",
   "metadata": {},
   "outputs": [
    {
     "name": "stderr",
     "output_type": "stream",
     "text": [
      "INFO - 01:03:29: Using default tokenizer.\n"
     ]
    },
    {
     "name": "stdout",
     "output_type": "stream",
     "text": [
      "{'rouge1': Score(precision=0.25, recall=0.5, fmeasure=0.3333333333333333), 'rouge2': Score(precision=0.0, recall=0.0, fmeasure=0.0), 'rougeL': Score(precision=0.25, recall=0.5, fmeasure=0.3333333333333333)}\n"
     ]
    }
   ],
   "source": [
    "from rouge_score import rouge_scorer\n",
    "\n",
    "hypotheses =\"grammars parsing\"\n",
    "reference =\"grammars grammars grammars grammars\"\n",
    "\n",
    "scorer = rouge_scorer.RougeScorer(['rouge1','rouge2', 'rougeL'], use_stemmer=True)\n",
    "scores = scorer.score(hypotheses,\n",
    "                      reference)\n",
    "print(scores)"
   ]
  },
  {
   "cell_type": "code",
   "execution_count": 290,
   "id": "50e756d5",
   "metadata": {},
   "outputs": [
    {
     "name": "stderr",
     "output_type": "stream",
     "text": [
      "INFO - 01:06:48: Using default tokenizer.\n"
     ]
    },
    {
     "name": "stdout",
     "output_type": "stream",
     "text": [
      "{'rouge1': Score(precision=0.75, recall=0.75, fmeasure=0.75), 'rouge2': Score(precision=0.6666666666666666, recall=0.6666666666666666, fmeasure=0.6666666666666666), 'rougeL': Score(precision=0.75, recall=0.75, fmeasure=0.75)}\n"
     ]
    }
   ],
   "source": [
    "hypotheses =\"grammars grammars grammars parsing \"\n",
    "reference =\"grammars grammars grammars grammars\"\n",
    "\n",
    "scorer = rouge_scorer.RougeScorer(['rouge1','rouge2', 'rougeL'], use_stemmer=True)\n",
    "scores = scorer.score(hypotheses,\n",
    "                      reference)\n",
    "print(scores)"
   ]
  }
 ],
 "metadata": {
  "kernelspec": {
   "display_name": "Python 3 (ipykernel)",
   "language": "python",
   "name": "python3"
  },
  "language_info": {
   "codemirror_mode": {
    "name": "ipython",
    "version": 3
   },
   "file_extension": ".py",
   "mimetype": "text/x-python",
   "name": "python",
   "nbconvert_exporter": "python",
   "pygments_lexer": "ipython3",
   "version": "3.8.12"
  }
 },
 "nbformat": 4,
 "nbformat_minor": 5
}
